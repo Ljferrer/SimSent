{
 "cells": [
  {
   "cell_type": "code",
   "execution_count": 11,
   "metadata": {},
   "outputs": [],
   "source": [
    "import numpy as np\n",
    "import faiss\n",
    "\n",
    "from time import time"
   ]
  },
  {
   "cell_type": "code",
   "execution_count": 5,
   "metadata": {},
   "outputs": [],
   "source": [
    "with np.load('test.npz') as npz:\n",
    "    ids = npz['ids']\n",
    "    sents = npz['sents']\n",
    "    embs = npz['embs']"
   ]
  },
  {
   "cell_type": "code",
   "execution_count": 7,
   "metadata": {},
   "outputs": [
    {
     "data": {
      "text/plain": [
       "(70252, 512)"
      ]
     },
     "execution_count": 7,
     "metadata": {},
     "output_type": "execute_result"
    }
   ],
   "source": [
    "embs.shape"
   ]
  },
  {
   "cell_type": "code",
   "execution_count": 15,
   "metadata": {},
   "outputs": [],
   "source": [
    "dim = embs.shape[1]\n",
    "idx_type1 = 'PCA128,IVF4096,Flat'\n",
    "idx_type2 = 'PCA128,IVF4096,SQ8'\n",
    "idx_type3 = 'PCAR128,IVF4096,Flat'\n",
    "idx_type4 = 'PCAR128,IVF4096,SQ8'"
   ]
  },
  {
   "cell_type": "code",
   "execution_count": 16,
   "metadata": {},
   "outputs": [],
   "source": [
    "idx1 = faiss.index_factory(dim, idx_type1)\n",
    "idx2 = faiss.index_factory(dim, idx_type2)\n",
    "idx3 = faiss.index_factory(dim, idx_type3)\n",
    "idx4 = faiss.index_factory(dim, idx_type4)"
   ]
  },
  {
   "cell_type": "code",
   "execution_count": 17,
   "metadata": {},
   "outputs": [
    {
     "name": "stdout",
     "output_type": "stream",
     "text": [
      "delta t = 4.35253381729126s\n"
     ]
    }
   ],
   "source": [
    "ts_01 = time()\n",
    "idx1.train(embs)\n",
    "te_01 = time()\n",
    "print(f'delta t = {te_01 - ts_01}s')"
   ]
  },
  {
   "cell_type": "code",
   "execution_count": 18,
   "metadata": {},
   "outputs": [
    {
     "name": "stdout",
     "output_type": "stream",
     "text": [
      "delta t = 4.926900148391724s\n"
     ]
    }
   ],
   "source": [
    "ts_02 = time()\n",
    "idx2.train(embs)\n",
    "te_02 = time()\n",
    "print(f'delta t = {te_02 - ts_02}s')"
   ]
  },
  {
   "cell_type": "code",
   "execution_count": 19,
   "metadata": {},
   "outputs": [
    {
     "name": "stdout",
     "output_type": "stream",
     "text": [
      "delta t = 4.641155004501343s\n"
     ]
    }
   ],
   "source": [
    "ts_03 = time()\n",
    "idx3.train(embs)\n",
    "te_03 = time()\n",
    "print(f'delta t = {te_03 - ts_03}s')"
   ]
  },
  {
   "cell_type": "code",
   "execution_count": 20,
   "metadata": {},
   "outputs": [
    {
     "name": "stdout",
     "output_type": "stream",
     "text": [
      "delta t = 5.321901082992554s\n"
     ]
    }
   ],
   "source": [
    "ts_04 = time()\n",
    "idx4.train(embs)\n",
    "te_04 = time()\n",
    "print(f'delta t = {te_04 - ts_04}s')"
   ]
  },
  {
   "cell_type": "code",
   "execution_count": 21,
   "metadata": {},
   "outputs": [],
   "source": [
    "idx1.add_with_ids(embs, ids)\n",
    "idx2.add_with_ids(embs, ids)\n",
    "idx3.add_with_ids(embs, ids)\n",
    "idx4.add_with_ids(embs, ids)"
   ]
  },
  {
   "cell_type": "code",
   "execution_count": 22,
   "metadata": {},
   "outputs": [],
   "source": [
    "faiss.write_index(idx1, 'idx1.index')\n",
    "faiss.write_index(idx2, 'idx2.index')\n",
    "faiss.write_index(idx3, 'idx3.index')\n",
    "faiss.write_index(idx4, 'idx4.index')"
   ]
  },
  {
   "cell_type": "code",
   "execution_count": 23,
   "metadata": {},
   "outputs": [],
   "source": [
    "idx0 = faiss.index_factory(dim, 'IVF4096,Flat')\n",
    "idx0.train(embs)\n",
    "idx0.add_with_ids(embs, ids)\n",
    "faiss.write_index(idx0, 'idx0.index')"
   ]
  },
  {
   "cell_type": "code",
   "execution_count": 24,
   "metadata": {},
   "outputs": [
    {
     "data": {
      "text/plain": [
       "array([1, 2, 3, 4, 5])"
      ]
     },
     "execution_count": 24,
     "metadata": {},
     "output_type": "execute_result"
    }
   ],
   "source": [
    "ids[:5]"
   ]
  },
  {
   "cell_type": "code",
   "execution_count": 36,
   "metadata": {},
   "outputs": [
    {
     "data": {
      "text/plain": [
       "(array([ 0, 59], dtype=uint64),\n",
       " array([0.        , 0.9657265 , 0.76270056, 0.93699706, 0.9687718 ,\n",
       "        0.76270056, 0.76270056, 0.7100551 , 0.9935241 , 0.9783976 ,\n",
       "        0.9302137 , 0.892998  , 0.9320534 , 0.8354062 , 0.9660726 ,\n",
       "        0.9822401 , 0.8183525 , 0.8555782 , 0.902593  , 0.9397729 ,\n",
       "        0.846636  , 0.99847156, 0.8843138 , 0.7908647 , 0.9610177 ,\n",
       "        0.9621397 , 0.8751305 , 0.8877976 , 0.895722  , 0.7034111 ,\n",
       "        0.94022113, 0.94022113, 0.94022113, 0.9046849 , 0.86407375,\n",
       "        0.71532273, 0.7908565 , 0.91931164, 0.94179034, 0.71435773,\n",
       "        0.8991058 , 0.8261812 , 0.6249939 , 0.76936954, 0.960559  ,\n",
       "        0.9591107 , 0.8883124 , 0.9592167 , 0.99230623, 0.97675294,\n",
       "        0.9492618 , 0.9153104 , 0.8931666 , 0.8931666 , 0.9153104 ,\n",
       "        0.86263955, 0.86263955, 0.8931666 , 0.9153104 ], dtype=float32),\n",
       " array([    1,  5415,  6307,  7253,  8179, 15801, 16216, 17794,  6496,\n",
       "         6735,  7276, 11215, 11495,   234,  9053,  9054,  9063,   119,\n",
       "          137, 16618,  5003,  6835,  9713,  9714,  2277,  2314, 18762,\n",
       "        18774, 18792, 18795,   138,   176,   181,   439,   529,    33,\n",
       "        13196, 13629,   328,   479,   615,  1034,   454,   489, 11370,\n",
       "        12204, 16349, 20605, 21339,   928,  1305,  8201, 12020, 12713,\n",
       "        13477, 15825, 16478, 18704, 19496]))"
      ]
     },
     "execution_count": 36,
     "metadata": {},
     "output_type": "execute_result"
    }
   ],
   "source": [
    "idx0.nprobe = 8\n",
    "idx0.range_search(embs[0:1], 1.0)"
   ]
  },
  {
   "cell_type": "code",
   "execution_count": 37,
   "metadata": {},
   "outputs": [
    {
     "data": {
      "text/plain": [
       "(array([0, 8], dtype=uint64),\n",
       " array([2.5067242e-14, 8.3166003e-01, 8.8113987e-01, 7.7305067e-01,\n",
       "        8.1855243e-01, 8.1782150e-01, 6.1161149e-01, 9.9787891e-01],\n",
       "       dtype=float32),\n",
       " array([    1,  9592,  2314, 18762, 18774, 18792, 18795, 21902]))"
      ]
     },
     "execution_count": 37,
     "metadata": {},
     "output_type": "execute_result"
    }
   ],
   "source": [
    "idx1.nprobe = 8\n",
    "idx1.range_search(embs[0:1], 1.0)"
   ]
  },
  {
   "cell_type": "code",
   "execution_count": 39,
   "metadata": {},
   "outputs": [],
   "source": [
    "idx2.nprobe = 8"
   ]
  },
  {
   "cell_type": "code",
   "execution_count": 40,
   "metadata": {},
   "outputs": [
    {
     "data": {
      "text/plain": [
       "(array([0, 8], dtype=uint64),\n",
       " array([3.6036425e-05, 8.3188677e-01, 8.8065833e-01, 7.7384520e-01,\n",
       "        8.1942302e-01, 8.1920522e-01, 6.1094201e-01, 9.9834293e-01],\n",
       "       dtype=float32),\n",
       " array([    1,  9592,  2314, 18762, 18774, 18792, 18795, 21902]))"
      ]
     },
     "execution_count": 40,
     "metadata": {},
     "output_type": "execute_result"
    }
   ],
   "source": [
    "idx2.range_search(embs[0:1], 1.0)"
   ]
  },
  {
   "cell_type": "code",
   "execution_count": 42,
   "metadata": {},
   "outputs": [
    {
     "data": {
      "text/plain": [
       "(array([0, 8], dtype=uint64),\n",
       " array([2.8328902e-14, 8.3165991e-01, 8.8114005e-01, 7.7305084e-01,\n",
       "        8.1855232e-01, 8.1782162e-01, 6.1161137e-01, 9.9787903e-01],\n",
       "       dtype=float32),\n",
       " array([    1,  9592,  2314, 18762, 18774, 18792, 18795, 21902]))"
      ]
     },
     "execution_count": 42,
     "metadata": {},
     "output_type": "execute_result"
    }
   ],
   "source": [
    "idx3.nprobe = 8\n",
    "idx3.range_search(embs[0:1], 1.0)"
   ]
  },
  {
   "cell_type": "code",
   "execution_count": 29,
   "metadata": {},
   "outputs": [
    {
     "data": {
      "text/plain": [
       "(array([[3.9195289e-05, 6.1231738e-01, 7.7325284e-01, 8.1682175e-01,\n",
       "         8.1740403e-01],\n",
       "        [4.1569267e-05, 4.1569267e-05, 4.1569267e-05, 4.1569267e-05,\n",
       "         4.1569267e-05],\n",
       "        [3.6786245e-05, 4.6538454e-01, 5.0308180e-01, 5.1797855e-01,\n",
       "         5.2688885e-01],\n",
       "        [3.9020553e-05, 2.7321795e-01, 3.7851712e-01, 4.0299451e-01,\n",
       "         4.0373400e-01],\n",
       "        [4.1569267e-05, 4.1569267e-05, 4.1569267e-05, 4.1569267e-05,\n",
       "         4.1569267e-05]], dtype=float32),\n",
       " array([[    1, 18795, 18762, 18792, 18774],\n",
       "        [   24,     5,    53,    29,     2],\n",
       "        [    3,   474, 21084,   648, 21086],\n",
       "        [    4, 25697, 25694, 25711, 19960],\n",
       "        [   24,     5,    53,    29,     2]]))"
      ]
     },
     "execution_count": 29,
     "metadata": {},
     "output_type": "execute_result"
    }
   ],
   "source": [
    "idx4.search(embs[:5], k=5)"
   ]
  },
  {
   "cell_type": "code",
   "execution_count": 43,
   "metadata": {},
   "outputs": [],
   "source": [
    "idx00 = faiss.index_factory(dim, 'IVF4096,SQ8')\n",
    "idx00.train(embs)\n",
    "idx00.add_with_ids(embs, ids)\n",
    "faiss.write_index(idx00, 'idx00.index')"
   ]
  },
  {
   "cell_type": "code",
   "execution_count": 44,
   "metadata": {},
   "outputs": [
    {
     "data": {
      "text/plain": [
       "(array([ 0, 13], dtype=uint64),\n",
       " array([3.4654946e-05, 9.6533227e-01, 7.6294380e-01, 9.3694282e-01,\n",
       "        9.6771306e-01, 7.6294380e-01, 7.6294380e-01, 7.1029836e-01,\n",
       "        9.9385196e-01, 9.7794503e-01, 9.2998928e-01, 8.9301872e-01,\n",
       "        9.3312794e-01], dtype=float32),\n",
       " array([    1,  5415,  6307,  7253,  8179, 15801, 16216, 17794,  6496,\n",
       "         6735,  7276, 11215, 11495]))"
      ]
     },
     "execution_count": 44,
     "metadata": {},
     "output_type": "execute_result"
    }
   ],
   "source": [
    "idx00.range_search(embs[0:1], 1.0)"
   ]
  },
  {
   "cell_type": "code",
   "execution_count": 45,
   "metadata": {},
   "outputs": [
    {
     "data": {
      "text/plain": [
       "(array([ 0, 59], dtype=uint64),\n",
       " array([3.4654946e-05, 9.6533227e-01, 7.6294380e-01, 9.3694282e-01,\n",
       "        9.6771306e-01, 7.6294380e-01, 7.6294380e-01, 7.1029836e-01,\n",
       "        9.9385196e-01, 9.7794503e-01, 9.2998928e-01, 8.9301872e-01,\n",
       "        9.3312794e-01, 8.3501458e-01, 9.6601593e-01, 9.8214781e-01,\n",
       "        8.1880832e-01, 8.5595155e-01, 9.0250862e-01, 9.3955278e-01,\n",
       "        8.4577334e-01, 9.9898237e-01, 8.8395625e-01, 7.8996247e-01,\n",
       "        9.6106815e-01, 9.6258903e-01, 8.7473881e-01, 8.8701034e-01,\n",
       "        8.9533293e-01, 7.0389599e-01, 9.3994957e-01, 9.3994957e-01,\n",
       "        9.3994957e-01, 9.0453452e-01, 8.6334604e-01, 7.1565270e-01,\n",
       "        7.9180831e-01, 9.2006201e-01, 9.4187039e-01, 7.1441865e-01,\n",
       "        8.9915079e-01, 8.2603884e-01, 6.2582636e-01, 7.6899743e-01,\n",
       "        9.6049696e-01, 9.5886159e-01, 8.8797885e-01, 9.5859402e-01,\n",
       "        9.9214405e-01, 9.7667688e-01, 9.4919103e-01, 9.1533709e-01,\n",
       "        8.9315331e-01, 8.9315331e-01, 9.1533709e-01, 8.6313838e-01,\n",
       "        8.6313838e-01, 8.9315331e-01, 9.1533709e-01], dtype=float32),\n",
       " array([    1,  5415,  6307,  7253,  8179, 15801, 16216, 17794,  6496,\n",
       "         6735,  7276, 11215, 11495,   234,  9053,  9054,  9063,   119,\n",
       "          137, 16618,  5003,  6835,  9713,  9714,  2277,  2314, 18762,\n",
       "        18774, 18792, 18795,   138,   176,   181,   439,   529,    33,\n",
       "        13196, 13629,   328,   479,   615,  1034,   454,   489, 11370,\n",
       "        12204, 16349, 20605, 21339,   928,  1305,  8201, 12020, 12713,\n",
       "        13477, 15825, 16478, 18704, 19496]))"
      ]
     },
     "execution_count": 45,
     "metadata": {},
     "output_type": "execute_result"
    }
   ],
   "source": [
    "idx00.nprobe = 8\n",
    "idx00.range_search(embs[0:1], 1.0)"
   ]
  },
  {
   "cell_type": "code",
   "execution_count": 46,
   "metadata": {},
   "outputs": [],
   "source": [
    "idx01 = faiss.index_factory(dim, 'PCA256,IVF4096,Flat')\n",
    "idx01.train(embs)\n",
    "idx01.add_with_ids(embs, ids)\n",
    "faiss.write_index(idx01, 'idx01.index')"
   ]
  },
  {
   "cell_type": "code",
   "execution_count": 47,
   "metadata": {},
   "outputs": [],
   "source": [
    "idx02 = faiss.index_factory(dim, 'PCA256,IVF4096,SQ8')\n",
    "idx02.train(embs)\n",
    "idx02.add_with_ids(embs, ids)\n",
    "faiss.write_index(idx02, 'idx02.index')"
   ]
  },
  {
   "cell_type": "code",
   "execution_count": 48,
   "metadata": {},
   "outputs": [
    {
     "data": {
      "text/plain": [
       "(array([0, 8], dtype=uint64),\n",
       " array([4.3147791e-14, 8.1321794e-01, 9.2950833e-01, 9.3600541e-01,\n",
       "        8.3985049e-01, 8.6005014e-01, 8.6622119e-01, 6.5939981e-01],\n",
       "       dtype=float32),\n",
       " array([    1,   103,  2277,  2314, 18762, 18774, 18792, 18795]))"
      ]
     },
     "execution_count": 48,
     "metadata": {},
     "output_type": "execute_result"
    }
   ],
   "source": [
    "idx01.range_search(embs[0:1], 1.0)"
   ]
  },
  {
   "cell_type": "code",
   "execution_count": 49,
   "metadata": {},
   "outputs": [
    {
     "data": {
      "text/plain": [
       "(array([0, 8], dtype=uint64),\n",
       " array([4.3147791e-14, 8.1321794e-01, 9.2950833e-01, 9.3600541e-01,\n",
       "        8.3985049e-01, 8.6005014e-01, 8.6622119e-01, 6.5939981e-01],\n",
       "       dtype=float32),\n",
       " array([    1,   103,  2277,  2314, 18762, 18774, 18792, 18795]))"
      ]
     },
     "execution_count": 49,
     "metadata": {},
     "output_type": "execute_result"
    }
   ],
   "source": [
    "idx01.nprobe = 8\n",
    "idx01.range_search(embs[0:1], 1.0)"
   ]
  },
  {
   "cell_type": "code",
   "execution_count": 50,
   "metadata": {},
   "outputs": [
    {
     "data": {
      "text/plain": [
       "(array([0, 8], dtype=uint64),\n",
       " array([4.8290916e-05, 8.1248671e-01, 9.3380558e-01, 9.3363065e-01,\n",
       "        8.3852834e-01, 8.5986465e-01, 8.6407894e-01, 6.5902805e-01],\n",
       "       dtype=float32),\n",
       " array([    1,   103,  2277,  2314, 18762, 18774, 18792, 18795]))"
      ]
     },
     "execution_count": 50,
     "metadata": {},
     "output_type": "execute_result"
    }
   ],
   "source": [
    "idx02.range_search(embs[0:1], 1.0)"
   ]
  },
  {
   "cell_type": "code",
   "execution_count": 56,
   "metadata": {},
   "outputs": [
    {
     "data": {
      "text/plain": [
       "(array([0, 8], dtype=uint64),\n",
       " array([4.8290916e-05, 8.1248671e-01, 9.3380558e-01, 9.3363065e-01,\n",
       "        8.3852834e-01, 8.5986465e-01, 8.6407894e-01, 6.5902805e-01],\n",
       "       dtype=float32),\n",
       " array([    1,   103,  2277,  2314, 18762, 18774, 18792, 18795]))"
      ]
     },
     "execution_count": 56,
     "metadata": {},
     "output_type": "execute_result"
    }
   ],
   "source": [
    "idx02.nprobe = 8\n",
    "idx02.range_search(embs[0:1], 1.0)"
   ]
  },
  {
   "cell_type": "code",
   "execution_count": 52,
   "metadata": {},
   "outputs": [
    {
     "data": {
      "text/plain": [
       "'House of Lords Economic Affairs Committee annual evidence session with Bank of England Governor Mark Carney.\\n'"
      ]
     },
     "execution_count": 52,
     "metadata": {},
     "output_type": "execute_result"
    }
   ],
   "source": [
    "sents[103]"
   ]
  },
  {
   "cell_type": "code",
   "execution_count": 67,
   "metadata": {},
   "outputs": [
    {
     "data": {
      "text/plain": [
       "array(['International Psychogeriatric Association InternationalCongress, joint event with Sociedad Espanola de Psicogeriatria (SEPG)\\n'],\n",
       "      dtype='<U3875')"
      ]
     },
     "execution_count": 67,
     "metadata": {},
     "output_type": "execute_result"
    }
   ],
   "source": [
    "sents[0:1]"
   ]
  },
  {
   "cell_type": "code",
   "execution_count": 69,
   "metadata": {},
   "outputs": [
    {
     "data": {
      "text/plain": [
       "(512,)"
      ]
     },
     "execution_count": 69,
     "metadata": {},
     "output_type": "execute_result"
    }
   ],
   "source": [
    "embs[0].shape"
   ]
  },
  {
   "cell_type": "code",
   "execution_count": 66,
   "metadata": {},
   "outputs": [
    {
     "data": {
      "text/plain": [
       "1"
      ]
     },
     "execution_count": 66,
     "metadata": {},
     "output_type": "execute_result"
    }
   ],
   "source": [
    "ids[0]"
   ]
  },
  {
   "cell_type": "code",
   "execution_count": 70,
   "metadata": {},
   "outputs": [
    {
     "name": "stdout",
     "output_type": "stream",
     "text": [
      "id: [1]\n",
      "sent: ['International Psychogeriatric Association InternationalCongress, joint event with Sociedad Espanola de Psicogeriatria (SEPG)\\n']\n"
     ]
    }
   ],
   "source": [
    "print(f'id: {ids[0:1]}\\nsent: {sents[0:1]}')"
   ]
  },
  {
   "cell_type": "code",
   "execution_count": null,
   "metadata": {},
   "outputs": [],
   "source": []
  },
  {
   "cell_type": "code",
   "execution_count": 71,
   "metadata": {},
   "outputs": [],
   "source": [
    "idx000 = faiss.index_factory(dim, 'IVF4096,SQ4')\n",
    "idx000.train(embs)\n",
    "idx000.add_with_ids(embs, ids)\n",
    "faiss.write_index(idx000, 'idx000.index')"
   ]
  },
  {
   "cell_type": "code",
   "execution_count": 72,
   "metadata": {},
   "outputs": [
    {
     "data": {
      "text/plain": [
       "(array([ 0, 12], dtype=uint64),\n",
       " array([0.01064252, 0.776015  , 0.92525125, 0.9819406 , 0.776015  ,\n",
       "        0.776015  , 0.7102869 , 0.9990848 , 0.99333674, 0.9533326 ,\n",
       "        0.9062726 , 0.95043004], dtype=float32),\n",
       " array([    1,  6307,  7253,  8179, 15801, 16216, 17794,  6496,  6735,\n",
       "         7276, 11215, 11495]))"
      ]
     },
     "execution_count": 72,
     "metadata": {},
     "output_type": "execute_result"
    }
   ],
   "source": [
    "idx000.range_search(embs[0:1], 1.0)"
   ]
  },
  {
   "cell_type": "code",
   "execution_count": 73,
   "metadata": {},
   "outputs": [
    {
     "data": {
      "text/plain": [
       "(array([ 0, 57], dtype=uint64),\n",
       " array([0.01064252, 0.776015  , 0.92525125, 0.9819406 , 0.776015  ,\n",
       "        0.776015  , 0.7102869 , 0.9990848 , 0.99333674, 0.9533326 ,\n",
       "        0.9062726 , 0.95043004, 0.8532458 , 0.9822226 , 0.99494773,\n",
       "        0.82930434, 0.8772309 , 0.9111648 , 0.9439575 , 0.8597698 ,\n",
       "        0.887464  , 0.7951887 , 0.9671674 , 0.9714217 , 0.8807058 ,\n",
       "        0.8973759 , 0.89861476, 0.7227219 , 0.94801545, 0.94801545,\n",
       "        0.94801545, 0.9149866 , 0.8723289 , 0.7334223 , 0.7965187 ,\n",
       "        0.9234403 , 0.9406953 , 0.7178669 , 0.9343267 , 0.8286524 ,\n",
       "        0.64258313, 0.7911314 , 0.98407847, 0.9731306 , 0.8906    ,\n",
       "        0.944195  , 0.9848009 , 0.9564841 , 0.9374946 , 0.92381036,\n",
       "        0.92381036, 0.9374946 , 0.8852933 , 0.8852933 , 0.9975416 ,\n",
       "        0.92381036, 0.9374946 ], dtype=float32),\n",
       " array([    1,  6307,  7253,  8179, 15801, 16216, 17794,  6496,  6735,\n",
       "         7276, 11215, 11495,   234,  9053,  9054,  9063,   119,   137,\n",
       "        16618,  5003,  9713,  9714,  2277,  2314, 18762, 18774, 18792,\n",
       "        18795,   138,   176,   181,   439,   529,    33, 13196, 13629,\n",
       "          328,   479,   615,  1034,   454,   489, 11370, 12204, 16349,\n",
       "        20605,   928,  1305,  8201, 12020, 12713, 13477, 15825, 16478,\n",
       "        16614, 18704, 19496]))"
      ]
     },
     "execution_count": 73,
     "metadata": {},
     "output_type": "execute_result"
    }
   ],
   "source": [
    "idx000.nprobe = 8\n",
    "idx000.range_search(embs[0:1], 1.0)"
   ]
  },
  {
   "cell_type": "code",
   "execution_count": null,
   "metadata": {},
   "outputs": [],
   "source": []
  },
  {
   "cell_type": "code",
   "execution_count": 75,
   "metadata": {},
   "outputs": [
    {
     "name": "stdout",
     "output_type": "stream",
     "text": [
      "trained in 121.39080095291138s\n"
     ]
    }
   ],
   "source": [
    "idxOPQ = faiss.index_factory(dim, 'OPQ32_128,IVF4096,Flat')\n",
    "tsOPQ = time()\n",
    "idxOPQ.train(embs)\n",
    "teOPQ = time()\n",
    "idxOPQ.add_with_ids(embs, ids)\n",
    "faiss.write_index(idxOPQ, 'idxOPQ.index')\n",
    "print(f'trained in {teOPQ - tsOPQ}s')"
   ]
  },
  {
   "cell_type": "code",
   "execution_count": 79,
   "metadata": {},
   "outputs": [
    {
     "data": {
      "text/plain": [
       "(array([ 0, 26], dtype=uint64),\n",
       " array([3.0464780e-14, 8.7881339e-01, 6.9358337e-01, 8.3313376e-01,\n",
       "        1.0871675e+00, 8.7432039e-01, 1.0245820e+00, 1.0409997e+00,\n",
       "        9.7163540e-01, 9.7163540e-01, 9.3918031e-01, 9.7943497e-01,\n",
       "        9.9914783e-01, 1.0245820e+00, 6.9358337e-01, 6.9358337e-01,\n",
       "        6.3844424e-01, 1.0395446e+00, 9.1283584e-01, 8.9008927e-01,\n",
       "        8.3988953e-01, 9.5325702e-01, 9.4889754e-01, 8.2075125e-01,\n",
       "        8.6132503e-01, 8.4911180e-01], dtype=float32),\n",
       " array([    1,  5415,  6307,  7253,  7714,  8179,  8662,  9282,  9365,\n",
       "        10099, 11694, 12142, 13482, 15426, 15801, 16216, 17794,  5569,\n",
       "         6496,  6735,  7276,  9457, 10678, 11215, 11495, 12417]))"
      ]
     },
     "execution_count": 79,
     "metadata": {},
     "output_type": "execute_result"
    }
   ],
   "source": [
    "idxOPQ.range_search(embs[0:1], 1.5)"
   ]
  },
  {
   "cell_type": "code",
   "execution_count": 81,
   "metadata": {},
   "outputs": [
    {
     "data": {
      "text/plain": [
       "(array([ 0, 26], dtype=uint64),\n",
       " array([3.0464780e-14, 8.7881339e-01, 6.9358337e-01, 8.3313376e-01,\n",
       "        1.0871675e+00, 8.7432039e-01, 1.0245820e+00, 1.0409997e+00,\n",
       "        9.7163540e-01, 9.7163540e-01, 9.3918031e-01, 9.7943497e-01,\n",
       "        9.9914783e-01, 1.0245820e+00, 6.9358337e-01, 6.9358337e-01,\n",
       "        6.3844424e-01, 1.0395446e+00, 9.1283584e-01, 8.9008927e-01,\n",
       "        8.3988953e-01, 9.5325702e-01, 9.4889754e-01, 8.2075125e-01,\n",
       "        8.6132503e-01, 8.4911180e-01], dtype=float32),\n",
       " array([    1,  5415,  6307,  7253,  7714,  8179,  8662,  9282,  9365,\n",
       "        10099, 11694, 12142, 13482, 15426, 15801, 16216, 17794,  5569,\n",
       "         6496,  6735,  7276,  9457, 10678, 11215, 11495, 12417]))"
      ]
     },
     "execution_count": 81,
     "metadata": {},
     "output_type": "execute_result"
    }
   ],
   "source": [
    "idxOPQ.k_factor = 100\n",
    "idxOPQ.range_search(embs[0:1], 1.5)"
   ]
  },
  {
   "cell_type": "code",
   "execution_count": null,
   "metadata": {},
   "outputs": [],
   "source": []
  },
  {
   "cell_type": "code",
   "execution_count": 87,
   "metadata": {},
   "outputs": [],
   "source": [
    "n = '256'\n",
    "idx_type = f'IVF{n},Flat'\n",
    "idx = faiss.index_factory(dim, idx_type)\n",
    "idx.train(embs[:1000])"
   ]
  },
  {
   "cell_type": "code",
   "execution_count": 90,
   "metadata": {},
   "outputs": [
    {
     "data": {
      "text/plain": [
       "(39, 0)"
      ]
     },
     "execution_count": 90,
     "metadata": {},
     "output_type": "execute_result"
    }
   ],
   "source": [
    "divmod(9984,256)"
   ]
  },
  {
   "cell_type": "code",
   "execution_count": 92,
   "metadata": {},
   "outputs": [
    {
     "data": {
      "text/plain": [
       "39.0625"
      ]
     },
     "execution_count": 92,
     "metadata": {},
     "output_type": "execute_result"
    }
   ],
   "source": [
    "10000/256"
   ]
  },
  {
   "cell_type": "code",
   "execution_count": null,
   "metadata": {},
   "outputs": [],
   "source": []
  }
 ],
 "metadata": {
  "kernelspec": {
   "display_name": "SimSent",
   "language": "python",
   "name": "simsent"
  },
  "language_info": {
   "codemirror_mode": {
    "name": "ipython",
    "version": 3
   },
   "file_extension": ".py",
   "mimetype": "text/x-python",
   "name": "python",
   "nbconvert_exporter": "python",
   "pygments_lexer": "ipython3",
   "version": "3.6.8"
  }
 },
 "nbformat": 4,
 "nbformat_minor": 2
}
