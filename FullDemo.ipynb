{
 "cells": [
  {
   "cell_type": "code",
   "execution_count": 2,
   "metadata": {},
   "outputs": [],
   "source": [
    "import os\n",
    "import json \n",
    "import glob\n",
    "from pathlib import Path"
   ]
  },
  {
   "cell_type": "code",
   "execution_count": 3,
   "metadata": {},
   "outputs": [],
   "source": [
    "n = 1\n",
    "large_encoder = True\n",
    "\n",
    "l = 'Large' if large_encoder else 'Small'\n",
    "project_dir = Path(f'TestProject{l}{n:3d}/')\n",
    "os.makedirs(project_dir, exist_ok=True)"
   ]
  },
  {
   "cell_type": "code",
   "execution_count": 3,
   "metadata": {},
   "outputs": [],
   "source": [
    "def get_sents(file):\n",
    "    with open(file, 'r') as f:\n",
    "        for line in f:\n",
    "            doc = json.loads(line)\n",
    "            sents = list()\n",
    "            if isinstance(doc['knowledge_graph']['title'][0]['value'], str):\n",
    "                sents.append(doc['knowledge_graph']['title'][0]['value'])\n",
    "                sents.extend(doc['split_sentences'])\n",
    "                for sent in sents:\n",
    "                    sent = str(sent).replace('\\n', ' ').replace('\\t', ' ')\n",
    "                    while '  ' in sent:\n",
    "                        sent = sent.replace('  ', ' ')\n",
    "                    yield sent"
   ]
  },
  {
   "cell_type": "code",
   "execution_count": 40,
   "metadata": {},
   "outputs": [
    {
     "data": {
      "text/plain": [
       "['Data/sample_news_2019-03-04.jl',\n",
       " 'Data/sample_news_2019-03-05.jl',\n",
       " 'Data/sample_news_2019-03-06.jl']"
      ]
     },
     "execution_count": 40,
     "metadata": {},
     "output_type": "execute_result"
    }
   ],
   "source": [
    "jl_files = ['Data/sample_news_2019-03-04.jl', 'Data/sample_news_2019-03-05.jl', 'Data/sample_news_2019-03-06.jl']\n",
    "jl_files"
   ]
  },
  {
   "cell_type": "code",
   "execution_count": 5,
   "metadata": {},
   "outputs": [],
   "source": [
    "for jl in jl_files:\n",
    "    fname = Path(jl).stem\n",
    "    dump_tsv = project_dir/f'{fname}.tsv'\n",
    "    with open(dump_tsv, 'x') as dt:\n",
    "        sent_gen = get_sents(jl)\n",
    "        for i, sent in enumerate(sent_gen):\n",
    "            dt.write(f'{i}\\t{sent}\\n')"
   ]
  },
  {
   "cell_type": "code",
   "execution_count": 6,
   "metadata": {},
   "outputs": [
    {
     "data": {
      "text/plain": [
       "['TestProject005small/sample_news_2019-03-05.tsv',\n",
       " 'TestProject005small/sample_news_2019-03-04.tsv',\n",
       " 'TestProject005small/sample_news_2019-03-06.tsv']"
      ]
     },
     "execution_count": 6,
     "metadata": {},
     "output_type": "execute_result"
    }
   ],
   "source": [
    "tsv_files = glob.glob(f'{project_dir}/*.tsv')\n",
    "tsv_files"
   ]
  },
  {
   "cell_type": "code",
   "execution_count": null,
   "metadata": {},
   "outputs": [],
   "source": []
  },
  {
   "cell_type": "code",
   "execution_count": 25,
   "metadata": {},
   "outputs": [],
   "source": [
    "from SimSent.indexer.index_builder import IndexBuilder\n",
    "from SimSent.vectorizer.sentence_vectorizer import SentenceVectorizer"
   ]
  },
  {
   "cell_type": "code",
   "execution_count": 8,
   "metadata": {},
   "outputs": [
    {
     "name": "stdout",
     "output_type": "stream",
     "text": [
      "Loading model: /Users/lukasferrer/Documents/SimSent/SimSent/vectorizer/model/1fb57c3ffe1a38479233ee9853ddd7a8ac8a8c47/\n",
      "Initializing TF Session...\n"
     ]
    }
   ],
   "source": [
    "sv = SentenceVectorizer(large=large_encoder)"
   ]
  },
  {
   "cell_type": "code",
   "execution_count": 9,
   "metadata": {},
   "outputs": [],
   "source": [
    "ibdr = IndexBuilder(project_dir, sentence_vectorizer=sv)"
   ]
  },
  {
   "cell_type": "code",
   "execution_count": 10,
   "metadata": {},
   "outputs": [],
   "source": [
    "for tsv in tsv_files:\n",
    "    ibdr.tsv_to_index(tsv)"
   ]
  },
  {
   "cell_type": "code",
   "execution_count": null,
   "metadata": {},
   "outputs": [],
   "source": []
  },
  {
   "cell_type": "code",
   "execution_count": 4,
   "metadata": {},
   "outputs": [
    {
     "name": "stderr",
     "output_type": "stream",
     "text": [
      "WARNING: Logging before flag parsing goes to stderr.\n",
      "W0425 17:09:09.200798 4507502016 __init__.py:56] Some hub symbols are not available because TensorFlow version is less than 1.14\n"
     ]
    }
   ],
   "source": [
    "from SimSent.server.service_handler import QueryHandler\n",
    "\n",
    "from SimSent.vectorizer.sentence_vectorizer import DockerVectorizer\n",
    "from SimSent.indexer.deploy_handler import RangeShards"
   ]
  },
  {
   "cell_type": "code",
   "execution_count": 5,
   "metadata": {},
   "outputs": [],
   "source": [
    "# Ensure correct docker is running the vectorizer container in background \n",
    "dv = DockerVectorizer(large=large_encoder)\n",
    "rs = RangeShards(project_dir, nprobe=8, get_nested=True)"
   ]
  },
  {
   "cell_type": "code",
   "execution_count": 6,
   "metadata": {},
   "outputs": [],
   "source": [
    "qp = QueryHandler(dv, rs, project_dir=project_dir, get_nested=True)"
   ]
  },
  {
   "cell_type": "code",
   "execution_count": 7,
   "metadata": {},
   "outputs": [
    {
     "data": {
      "text/plain": [
       "['sample_news_2019-03-04', 'sample_news_2019-03-05', 'sample_news_2019-03-06']"
      ]
     },
     "execution_count": 7,
     "metadata": {},
     "output_type": "execute_result"
    }
   ],
   "source": [
    "keys = list(rs.shards.keys())\n",
    "keys"
   ]
  },
  {
   "cell_type": "code",
   "execution_count": 14,
   "metadata": {},
   "outputs": [],
   "source": [
    "query = 'Tesla increases its value every year'"
   ]
  },
  {
   "cell_type": "code",
   "execution_count": 15,
   "metadata": {},
   "outputs": [
    {
     "name": "stdout",
     "output_type": "stream",
     "text": [
      "  Query vectorized in --- 0.0386s\n",
      "  Index searched in ----- 0.0071s\n",
      "  Payload formatted in -- 0.0089s\n",
      "\n"
     ]
    }
   ],
   "source": [
    "results = qp.query_corpus(query, keys)"
   ]
  },
  {
   "cell_type": "code",
   "execution_count": 16,
   "metadata": {},
   "outputs": [
    {
     "name": "stdout",
     "output_type": "stream",
     "text": [
      "\n",
      "sample_news_2019-03-04:\n",
      "   * ID:    7040\n",
      "   * Score: 0.4747331440448761\n",
      "   * Text:  The global electric vehicle market is expected to reach over $500 billion by 2025.  \n",
      "\n",
      "   * ID:    7041\n",
      "   * Score: 0.48845478892326355\n",
      "   * Text:  With a recent Bloomberg report forecasting electric and internal combustion engine price parity by 2024, ALYI is positioning to expand into electric cars. \n",
      "\n",
      "   * ID:    19359\n",
      "   * Score: 0.7073149681091309\n",
      "   * Text:  AUDI AG is among the most successful luxury automotive brands, delivering about 1.812 million vehicles globally in 2018.\n",
      "\n",
      "   * ID:    7223\n",
      "   * Score: 0.7136830687522888\n",
      "   * Text:  The Corporation and Ion Energy will issue a press release announcing closing of the Initial Financing which is anticipated to occur on or about March 19, 2019. \n",
      "\n",
      "   * ID:    7858\n",
      "   * Score: 0.7144827842712402\n",
      "   * Text:  January's realized condensate pricing, including its hedging gains was almost three times higher than December, and more consistent with realized pricing in the third quarter of 2018. \n",
      "\n",
      "\n",
      "sample_news_2019-03-05:\n",
      "   * ID:    9560\n",
      "   * Score: 0.5293641090393066\n",
      "   * Text:  Given growing environmental concerns triggered by increasing vehicle emissions, eBus sales will gain momentum by 2020. \n",
      "\n",
      "   * ID:    12796\n",
      "   * Score: 0.5328232645988464\n",
      "   * Text:  Key drivers of market growth Increase in the use of electric and hybrid vehicles and more adoption of renewable energy sources is expected to result in high demand for active electronic components in the coming years. \n",
      "\n",
      "   * ID:    8306\n",
      "   * Score: 0.5938339233398438\n",
      "   * Text:  Earlier this year, Tesla announced its acquisition of battery manufacturer Maxwell Technologies, a decision noted by many for Tesla's pursuit of improved power density using Maxwell's proprietary technology.\n",
      "\n",
      "   * ID:    17520\n",
      "   * Score: 0.6284777522087097\n",
      "   * Text:  It is reported that fuel cell cars sell at or around $ 40,000, about Rs. 7.2 million. \n",
      "\n",
      "   * ID:    18459\n",
      "   * Score: 0.641520082950592\n",
      "   * Text:  Financial performance is expected to improve from 2018 in all regions except Europe, where improvement has been delayed by increased fuel hedging.\n",
      "\n",
      "\n",
      "sample_news_2019-03-06:\n",
      "   * ID:    27569\n",
      "   * Score: 0.6037441492080688\n",
      "   * Text:  Before the alarming earnings report, Nio's shares had gained more than 50% following its IPO in September as investors bet that its flashy SUVs would win lots of customers in the world's largest electric vehicle market. \n",
      "\n",
      "   * ID:    27574\n",
      "   * Score: 0.6191738247871399\n",
      "   * Text:  But the Chinese market for electric vehicles has bucked that trend.\n",
      "\n",
      "   * ID:    27566\n",
      "   * Score: 0.6371399164199829\n",
      "   * Text:  The company billed as China's answer to Tesla has freaked out investors by warning that demand for its electric vehicles has failed to live up to expectations. \n",
      "\n",
      "   * ID:    27570\n",
      "   * Score: 0.6430591344833374\n",
      "   * Text:  But the company announced Tuesday that sales of its flagship electric SUV, the ES8, only reached 1,600 in the first two months of this year, which it said represented \"a greater than anticipated slowdown.\" \n",
      "\n",
      "   * ID:    17460\n",
      "   * Score: 0.6770608425140381\n",
      "   * Text:  Renewables now account for 20 per cent of the National Electricity Market.\n",
      "\n",
      "\n",
      "top_hits:\n",
      "   * ID:    7040\n",
      "   * Score: 0.4747331440448761\n",
      "   * Text:  The global electric vehicle market is expected to reach over $500 billion by 2025.  \n",
      "\n",
      "   * ID:    7041\n",
      "   * Score: 0.48845478892326355\n",
      "   * Text:  With a recent Bloomberg report forecasting electric and internal combustion engine price parity by 2024, ALYI is positioning to expand into electric cars. \n",
      "\n",
      "   * ID:    9560\n",
      "   * Score: 0.5293641090393066\n",
      "   * Text:  Given growing environmental concerns triggered by increasing vehicle emissions, eBus sales will gain momentum by 2020. \n",
      "\n",
      "   * ID:    12796\n",
      "   * Score: 0.5328232645988464\n",
      "   * Text:  Key drivers of market growth Increase in the use of electric and hybrid vehicles and more adoption of renewable energy sources is expected to result in high demand for active electronic components in the coming years. \n",
      "\n",
      "   * ID:    8306\n",
      "   * Score: 0.5938339233398438\n",
      "   * Text:  Earlier this year, Tesla announced its acquisition of battery manufacturer Maxwell Technologies, a decision noted by many for Tesla's pursuit of improved power density using Maxwell's proprietary technology.\n",
      "\n"
     ]
    }
   ],
   "source": [
    "for Key, Vals in results.items():\n",
    "    print(f'\\n{Key}:')\n",
    "    for v in Vals:\n",
    "        print(f'   * ID:    {v[1]}\\n'\n",
    "              f'   * Score: {v[0]}\\n'\n",
    "              f'   * Text:  {v[2]}\\n')"
   ]
  },
  {
   "cell_type": "code",
   "execution_count": null,
   "metadata": {},
   "outputs": [],
   "source": []
  },
  {
   "cell_type": "code",
   "execution_count": null,
   "metadata": {},
   "outputs": [],
   "source": []
  },
  {
   "cell_type": "code",
   "execution_count": null,
   "metadata": {},
   "outputs": [],
   "source": []
  },
  {
   "cell_type": "code",
   "execution_count": null,
   "metadata": {},
   "outputs": [],
   "source": []
  }
 ],
 "metadata": {
  "kernelspec": {
   "display_name": "SimSent",
   "language": "python",
   "name": "simsent"
  },
  "language_info": {
   "codemirror_mode": {
    "name": "ipython",
    "version": 3
   },
   "file_extension": ".py",
   "mimetype": "text/x-python",
   "name": "python",
   "nbconvert_exporter": "python",
   "pygments_lexer": "ipython3",
   "version": "3.6.8"
  }
 },
 "nbformat": 4,
 "nbformat_minor": 2
}
