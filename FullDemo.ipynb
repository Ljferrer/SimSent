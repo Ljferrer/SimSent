{
 "cells": [
  {
   "cell_type": "code",
   "execution_count": 17,
   "metadata": {},
   "outputs": [],
   "source": [
    "n = 3\n",
    "large_encoder = True"
   ]
  },
  {
   "cell_type": "code",
   "execution_count": 18,
   "metadata": {},
   "outputs": [],
   "source": [
    "import os\n",
    "import json \n",
    "import glob\n",
    "from pathlib import Path"
   ]
  },
  {
   "cell_type": "code",
   "execution_count": 19,
   "metadata": {},
   "outputs": [],
   "source": [
    "def get_sents(file):\n",
    "    with open(file, 'r') as f:\n",
    "        for line in f:\n",
    "            doc = json.loads(line)\n",
    "            sents = list()\n",
    "            if isinstance(doc['knowledge_graph']['title'][0]['value'], str):\n",
    "                sents.append(doc['knowledge_graph']['title'][0]['value'])\n",
    "                sents.extend(doc['split_sentences'])\n",
    "                for sent in sents:\n",
    "                    sent = str(sent).replace('\\n', ' ').replace('\\t', ' ')\n",
    "                    while '  ' in sent:\n",
    "                        sent.replace('  ', ' ')\n",
    "                    yield sent"
   ]
  },
  {
   "cell_type": "code",
   "execution_count": 20,
   "metadata": {},
   "outputs": [
    {
     "data": {
      "text/plain": [
       "['Data/sample_news_2019-03-04.jl',\n",
       " 'Data/sample_news_2019-03-05.jl',\n",
       " 'Data/sample_news_2019-03-06.jl']"
      ]
     },
     "execution_count": 20,
     "metadata": {},
     "output_type": "execute_result"
    }
   ],
   "source": [
    "project_dir = Path(f'TestProject00{n}/')\n",
    "os.makedirs(project_dir, exist_ok=True)\n",
    "\n",
    "jl_files = ['Data/sample_news_2019-03-04.jl', 'Data/sample_news_2019-03-05.jl', 'Data/sample_news_2019-03-06.jl']\n",
    "jl_files"
   ]
  },
  {
   "cell_type": "code",
   "execution_count": null,
   "metadata": {},
   "outputs": [],
   "source": [
    "for jl in jl_files:\n",
    "    fname = Path(jl).stem\n",
    "    dump_tsv = project_dir/f'{fname}.tsv'\n",
    "    with open(dump_tsv, 'x') as dt:\n",
    "        sent_gen = get_sents(jl)\n",
    "        for i, sent in enumerate(sent_gen):\n",
    "            dt.write(f'{i}\\t{sent}\\n')"
   ]
  },
  {
   "cell_type": "code",
   "execution_count": null,
   "metadata": {},
   "outputs": [],
   "source": [
    "tsv_files = glob.glob(f'{project_dir}/*.tsv')\n",
    "tsv_files"
   ]
  },
  {
   "cell_type": "code",
   "execution_count": null,
   "metadata": {},
   "outputs": [],
   "source": []
  },
  {
   "cell_type": "code",
   "execution_count": 9,
   "metadata": {},
   "outputs": [
    {
     "name": "stderr",
     "output_type": "stream",
     "text": [
      "WARNING: Logging before flag parsing goes to stderr.\n",
      "W0425 12:12:52.222565 4399863232 __init__.py:56] Some hub symbols are not available because TensorFlow version is less than 1.14\n"
     ]
    }
   ],
   "source": [
    "from SimSent.indexer.index_builder import IndexBuilder\n",
    "from SimSent.vectorizer.sentence_vectorizer import SentenceVectorizer"
   ]
  },
  {
   "cell_type": "code",
   "execution_count": null,
   "metadata": {},
   "outputs": [],
   "source": [
    "sv = SentenceVectorizer(large=large_encoder)"
   ]
  },
  {
   "cell_type": "code",
   "execution_count": null,
   "metadata": {},
   "outputs": [],
   "source": [
    "ibdr = IndexBuilder(project_dir, sentence_vectorizer=sv)"
   ]
  },
  {
   "cell_type": "code",
   "execution_count": null,
   "metadata": {},
   "outputs": [],
   "source": [
    "for tsv in tsv_files:\n",
    "    ibdr.tsv_to_index(tsv)"
   ]
  },
  {
   "cell_type": "code",
   "execution_count": null,
   "metadata": {},
   "outputs": [],
   "source": []
  },
  {
   "cell_type": "code",
   "execution_count": null,
   "metadata": {},
   "outputs": [],
   "source": [
    "from SimSent.server.service_handler import QueryHandler\n",
    "\n",
    "from SimSent.vectorizer.sentence_vectorizer import DockerVectorizer\n",
    "from SimSent.indexer.deploy_handler import RangeShards"
   ]
  },
  {
   "cell_type": "code",
   "execution_count": null,
   "metadata": {},
   "outputs": [],
   "source": [
    "# Ensure correct docker is running the vectorizer container in background \n",
    "dv = DockerVectorizer(large=large_encoder)\n",
    "rs = RangeShards(project_dir, nprobe=8, get_nested=True)"
   ]
  },
  {
   "cell_type": "code",
   "execution_count": null,
   "metadata": {},
   "outputs": [],
   "source": [
    "qp = QueryHandler(dv, rs, project_dir=project_dir, nested=True)"
   ]
  },
  {
   "cell_type": "code",
   "execution_count": null,
   "metadata": {},
   "outputs": [],
   "source": [
    "keys = list(rs.shards.keys())\n",
    "keys"
   ]
  },
  {
   "cell_type": "code",
   "execution_count": null,
   "metadata": {},
   "outputs": [],
   "source": [
    "query = ''"
   ]
  },
  {
   "cell_type": "code",
   "execution_count": null,
   "metadata": {},
   "outputs": [],
   "source": [
    "qp.query_corpus(query, keys)"
   ]
  },
  {
   "cell_type": "code",
   "execution_count": null,
   "metadata": {},
   "outputs": [],
   "source": []
  },
  {
   "cell_type": "code",
   "execution_count": null,
   "metadata": {},
   "outputs": [],
   "source": []
  },
  {
   "cell_type": "code",
   "execution_count": null,
   "metadata": {},
   "outputs": [],
   "source": []
  }
 ],
 "metadata": {
  "kernelspec": {
   "display_name": "SimSent",
   "language": "python",
   "name": "simsent"
  },
  "language_info": {
   "codemirror_mode": {
    "name": "ipython",
    "version": 3
   },
   "file_extension": ".py",
   "mimetype": "text/x-python",
   "name": "python",
   "nbconvert_exporter": "python",
   "pygments_lexer": "ipython3",
   "version": "3.6.8"
  }
 },
 "nbformat": 4,
 "nbformat_minor": 2
}
