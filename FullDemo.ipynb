{
 "cells": [
  {
   "cell_type": "code",
   "execution_count": 1,
   "metadata": {},
   "outputs": [],
   "source": [
    "import os\n",
    "import json \n",
    "import glob\n",
    "from pathlib import Path"
   ]
  },
  {
   "cell_type": "code",
   "execution_count": 2,
   "metadata": {},
   "outputs": [],
   "source": [
    "n = 1\n",
    "large_encoder = True\n",
    "\n",
    "l = 'Large' if large_encoder else 'Small'\n",
    "project_dir = Path(f'TestProject{l}{n:03d}/')\n",
    "os.makedirs(project_dir, exist_ok=True)"
   ]
  },
  {
   "cell_type": "code",
   "execution_count": 3,
   "metadata": {},
   "outputs": [],
   "source": [
    "def get_sents(file):\n",
    "    with open(file, 'r') as f:\n",
    "        for line in f:\n",
    "            doc = json.loads(line)\n",
    "            sents = list()\n",
    "            if isinstance(doc['knowledge_graph']['title'][0]['value'], str):\n",
    "                sents.append(doc['knowledge_graph']['title'][0]['value'])\n",
    "                sents.extend(doc['split_sentences'])\n",
    "                for sent in sents:\n",
    "                    sent = str(sent).replace('\\n', ' ').replace('\\t', ' ')\n",
    "                    while '  ' in sent:\n",
    "                        sent = sent.replace('  ', ' ')\n",
    "                    yield sent"
   ]
  },
  {
   "cell_type": "code",
   "execution_count": 4,
   "metadata": {},
   "outputs": [
    {
     "data": {
      "text/plain": [
       "['Data/sample_news_2019-03-04.jl',\n",
       " 'Data/sample_news_2019-03-05.jl',\n",
       " 'Data/sample_news_2019-03-06.jl']"
      ]
     },
     "execution_count": 4,
     "metadata": {},
     "output_type": "execute_result"
    }
   ],
   "source": [
    "jl_files = ['Data/sample_news_2019-03-04.jl', 'Data/sample_news_2019-03-05.jl', 'Data/sample_news_2019-03-06.jl']\n",
    "jl_files"
   ]
  },
  {
   "cell_type": "code",
   "execution_count": 5,
   "metadata": {},
   "outputs": [],
   "source": [
    "for jl in jl_files:\n",
    "    fname = Path(jl).stem\n",
    "    dump_tsv = project_dir/f'{fname}.tsv'\n",
    "    with open(dump_tsv, 'x') as dt:\n",
    "        sent_gen = get_sents(jl)\n",
    "        for i, sent in enumerate(sent_gen):\n",
    "            dt.write(f'{i}\\t{sent}\\n')"
   ]
  },
  {
   "cell_type": "code",
   "execution_count": 6,
   "metadata": {},
   "outputs": [
    {
     "data": {
      "text/plain": [
       "['TestProjectLarge001/sample_news_2019-03-04.tsv',\n",
       " 'TestProjectLarge001/sample_news_2019-03-06.tsv',\n",
       " 'TestProjectLarge001/sample_news_2019-03-05.tsv']"
      ]
     },
     "execution_count": 6,
     "metadata": {},
     "output_type": "execute_result"
    }
   ],
   "source": [
    "tsv_files = glob.glob(f'{project_dir}/*.tsv')\n",
    "tsv_files"
   ]
  },
  {
   "cell_type": "code",
   "execution_count": null,
   "metadata": {},
   "outputs": [],
   "source": []
  },
  {
   "cell_type": "code",
   "execution_count": 7,
   "metadata": {},
   "outputs": [],
   "source": [
    "from SimSent.indexer.index_builder import IndexBuilder\n",
    "from SimSent.vectorizer.sentence_vectorizer import SentenceVectorizer"
   ]
  },
  {
   "cell_type": "code",
   "execution_count": 8,
   "metadata": {},
   "outputs": [
    {
     "name": "stdout",
     "output_type": "stream",
     "text": [
      "Loading model: /home/lukas/GitHub/SimSent/SimSent/vectorizer/model/96e8f1d3d4d90ce86b2db128249eb8143a91db73/\n",
      "Initializing TF Session...\n"
     ]
    }
   ],
   "source": [
    "sv = SentenceVectorizer(large=large_encoder)"
   ]
  },
  {
   "cell_type": "code",
   "execution_count": 9,
   "metadata": {},
   "outputs": [],
   "source": [
    "ibdr = IndexBuilder(project_dir, sentence_vectorizer=sv)"
   ]
  },
  {
   "cell_type": "code",
   "execution_count": 10,
   "metadata": {},
   "outputs": [],
   "source": [
    "for tsv in tsv_files:\n",
    "    ibdr.tsv_to_index(tsv)"
   ]
  },
  {
   "cell_type": "code",
   "execution_count": null,
   "metadata": {},
   "outputs": [],
   "source": []
  },
  {
   "cell_type": "code",
   "execution_count": 11,
   "metadata": {},
   "outputs": [],
   "source": [
    "from SimSent.server.service_handler import QueryHandler\n",
    "\n",
    "from SimSent.vectorizer.sentence_vectorizer import DockerVectorizer\n",
    "from SimSent.indexer.deploy_handler import RangeShards"
   ]
  },
  {
   "cell_type": "code",
   "execution_count": 12,
   "metadata": {},
   "outputs": [],
   "source": [
    "# Ensure correct docker is running the vectorizer container in background \n",
    "dv = DockerVectorizer(large=large_encoder)\n",
    "rs = RangeShards(project_dir, nprobe=8, get_nested=True)"
   ]
  },
  {
   "cell_type": "code",
   "execution_count": 13,
   "metadata": {},
   "outputs": [],
   "source": [
    "qp = QueryHandler(dv, rs, project_dir=project_dir, get_nested=True)"
   ]
  },
  {
   "cell_type": "code",
   "execution_count": 14,
   "metadata": {},
   "outputs": [
    {
     "data": {
      "text/plain": [
       "['sample_news_2019-03-04', 'sample_news_2019-03-05', 'sample_news_2019-03-06']"
      ]
     },
     "execution_count": 14,
     "metadata": {},
     "output_type": "execute_result"
    }
   ],
   "source": [
    "keys = list(rs.shards.keys())\n",
    "keys"
   ]
  },
  {
   "cell_type": "code",
   "execution_count": 24,
   "metadata": {},
   "outputs": [],
   "source": [
    "query = 'Tesla has revolutionized the automotive industry'"
   ]
  },
  {
   "cell_type": "code",
   "execution_count": 25,
   "metadata": {},
   "outputs": [
    {
     "name": "stdout",
     "output_type": "stream",
     "text": [
      "  Query vectorized in --- 0.0296s\n",
      "  Index searched in ----- 0.0273s\n",
      "  Payload formatted in -- 0.0035s\n",
      "\n"
     ]
    }
   ],
   "source": [
    "results = qp.query_corpus(query, keys)"
   ]
  },
  {
   "cell_type": "code",
   "execution_count": 26,
   "metadata": {},
   "outputs": [
    {
     "name": "stdout",
     "output_type": "stream",
     "text": [
      "\n",
      "sample_news_2019-03-04:\n",
      "   * ID:    7041\n",
      "   * Score: 0.4920949637889862\n",
      "   * Text:  With a recent Bloomberg report forecasting electric and internal combustion engine price parity by 2024, ALYI is positioning to expand into electric cars. \n",
      "\n",
      "   * ID:    19359\n",
      "   * Score: 0.494681179523468\n",
      "   * Text:  AUDI AG is among the most successful luxury automotive brands, delivering about 1.812 million vehicles globally in 2018.\n",
      "\n",
      "   * ID:    7038\n",
      "   * Score: 0.5557064414024353\n",
      "   * Text:  The targeted acquisition is one of several potential acquisitions the company is developing to expand from its current electric motorcycle business into producing electric cars.\n",
      "\n",
      "   * ID:    10468\n",
      "   * Score: 0.6566527485847473\n",
      "   * Text:  The Company revolutionized solar with its microinverter technology and produces the world's only truly integrated solar plus storage solution.\n",
      "\n",
      "   * ID:    6178\n",
      "   * Score: 0.6658201217651367\n",
      "   * Text:  About HydrogenicsHydrogenics Corporation is a world leader in engineering and building the technologies required to enable the acceleration of a global power shift.\n",
      "\n",
      "\n",
      "sample_news_2019-03-05:\n",
      "   * ID:    8306\n",
      "   * Score: 0.39968669414520264\n",
      "   * Text:  Earlier this year, Tesla announced its acquisition of battery manufacturer Maxwell Technologies, a decision noted by many for Tesla's pursuit of improved power density using Maxwell's proprietary technology.\n",
      "\n",
      "   * ID:    8307\n",
      "   * Score: 0.4582986533641815\n",
      "   * Text:  BioSolar believes that its technology can play a key role in reducing costs throughout the supply chain for electric vehicles, personal electronic devices and others, enabling more lithium-ion powered products to go mainstream and ultimately support a more sustainable future. \n",
      "\n",
      "   * ID:    13445\n",
      "   * Score: 0.529373049736023\n",
      "   * Text:  Volkswagen has decided to share some of its electric vehicle technology with third parties to simplify EV production across a variety of models. \n",
      "\n",
      "   * ID:    8466\n",
      "   * Score: 0.5706760287284851\n",
      "   * Text:  Incumbents such as Nikola and Tesla have disrupted the trucking industry by announcing a slew of products in the electric truck segment, while traditional truck manufacturers have been slow to promote electrification as a viable alternative to diesel.\n",
      "\n",
      "   * ID:    8477\n",
      "   * Score: 0.570889413356781\n",
      "   * Text:  Falling battery prices, rapid technology developments in electrification, and huge market potential will attract new technology players and startups to the electric commercial vehicle space, while traditional truck manufacturers will be compelled to add electric vehicles to their product portfolios. \n",
      "\n",
      "\n",
      "sample_news_2019-03-06:\n",
      "   * ID:    27566\n",
      "   * Score: 0.5084936022758484\n",
      "   * Text:  The company billed as China's answer to Tesla has freaked out investors by warning that demand for its electric vehicles has failed to live up to expectations. \n",
      "\n",
      "   * ID:    27574\n",
      "   * Score: 0.5184168219566345\n",
      "   * Text:  But the Chinese market for electric vehicles has bucked that trend.\n",
      "\n",
      "   * ID:    27589\n",
      "   * Score: 0.5706650614738464\n",
      "   * Text:  Tesla is building a huge manufacturing plant in Shanghai that aims to start producing cars by the end of the year.\n",
      "\n",
      "   * ID:    27588\n",
      "   * Score: 0.6194518208503723\n",
      "   * Text:  Nio is facing an increasingly competitive electric vehicle market in China.\n",
      "\n",
      "   * ID:    27569\n",
      "   * Score: 0.6280009746551514\n",
      "   * Text:  Before the alarming earnings report, Nio's shares had gained more than 50% following its IPO in September as investors bet that its flashy SUVs would win lots of customers in the world's largest electric vehicle market. \n",
      "\n",
      "\n",
      "top_hits:\n",
      "   * ID:    8306\n",
      "   * Score: 0.39968669414520264\n",
      "   * Text:  Earlier this year, Tesla announced its acquisition of battery manufacturer Maxwell Technologies, a decision noted by many for Tesla's pursuit of improved power density using Maxwell's proprietary technology.\n",
      "\n",
      "   * ID:    8307\n",
      "   * Score: 0.4582986533641815\n",
      "   * Text:  BioSolar believes that its technology can play a key role in reducing costs throughout the supply chain for electric vehicles, personal electronic devices and others, enabling more lithium-ion powered products to go mainstream and ultimately support a more sustainable future. \n",
      "\n",
      "   * ID:    7041\n",
      "   * Score: 0.4920949637889862\n",
      "   * Text:  With a recent Bloomberg report forecasting electric and internal combustion engine price parity by 2024, ALYI is positioning to expand into electric cars. \n",
      "\n",
      "   * ID:    19359\n",
      "   * Score: 0.494681179523468\n",
      "   * Text:  AUDI AG is among the most successful luxury automotive brands, delivering about 1.812 million vehicles globally in 2018.\n",
      "\n",
      "   * ID:    27566\n",
      "   * Score: 0.5084936022758484\n",
      "   * Text:  The company billed as China's answer to Tesla has freaked out investors by warning that demand for its electric vehicles has failed to live up to expectations. \n",
      "\n"
     ]
    }
   ],
   "source": [
    "for Key, Vals in results.items():\n",
    "    print(f'\\n{Key}:')\n",
    "    for v in Vals:\n",
    "        print(f'   * ID:    {v[1]}\\n'\n",
    "              f'   * Score: {v[0]}\\n'\n",
    "              f'   * Text:  {v[2]}\\n')"
   ]
  },
  {
   "cell_type": "code",
   "execution_count": null,
   "metadata": {},
   "outputs": [],
   "source": []
  },
  {
   "cell_type": "code",
   "execution_count": null,
   "metadata": {},
   "outputs": [],
   "source": []
  },
  {
   "cell_type": "code",
   "execution_count": null,
   "metadata": {},
   "outputs": [],
   "source": []
  },
  {
   "cell_type": "code",
   "execution_count": null,
   "metadata": {},
   "outputs": [],
   "source": []
  }
 ],
 "metadata": {
  "kernelspec": {
   "display_name": "Papes",
   "language": "python",
   "name": "papes"
  },
  "language_info": {
   "codemirror_mode": {
    "name": "ipython",
    "version": 3
   },
   "file_extension": ".py",
   "mimetype": "text/x-python",
   "name": "python",
   "nbconvert_exporter": "python",
   "pygments_lexer": "ipython3",
   "version": "3.6.7"
  }
 },
 "nbformat": 4,
 "nbformat_minor": 2
}
