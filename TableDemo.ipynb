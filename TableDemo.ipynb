{
 "cells": [
  {
   "cell_type": "code",
   "execution_count": 1,
   "metadata": {},
   "outputs": [],
   "source": [
    "import os\n",
    "import json \n",
    "import glob\n",
    "from pathlib import Path\n",
    "from sqlitedict import SqliteDict"
   ]
  },
  {
   "cell_type": "code",
   "execution_count": 2,
   "metadata": {},
   "outputs": [],
   "source": [
    "n = 2\n",
    "large_encoder = True\n",
    "\n",
    "l = 'Large' if large_encoder else 'Small'\n",
    "project_dir = Path(f'TableTest{l}{n:03d}/')\n",
    "os.makedirs(project_dir, exist_ok=True)"
   ]
  },
  {
   "cell_type": "code",
   "execution_count": null,
   "metadata": {},
   "outputs": [],
   "source": []
  },
  {
   "cell_type": "code",
   "execution_count": 3,
   "metadata": {},
   "outputs": [],
   "source": [
    "dicto_tables = SqliteDict(f'{project_dir}/dictOtables.sqlite')"
   ]
  },
  {
   "cell_type": "code",
   "execution_count": 5,
   "metadata": {},
   "outputs": [],
   "source": [
    "# Prepare tsv:   int_id     sent\n",
    "\n",
    "with open('Data/tableTest.jsonl', 'r') as tt:\n",
    "    for line in tt:\n",
    "        table = json.loads(line)\n",
    "        id_sent_pairs = list()\n",
    "        dicto_tables[table['i']] = table['table_record']   \n",
    "        \n",
    "        for j, sent in enumerate(table['context_vals']):\n",
    "            if sent: \n",
    "                sent = str(sent).replace('\\n', ' ').replace('\\t', ' ')\n",
    "                while '  ' in sent:\n",
    "                    sent = sent.replace('  ', ' ')                \n",
    "\n",
    "                int_id = int(table['i']) * 100 + j\n",
    "                id_sent_pairs.append(f'{int_id}\\t{sent}\\n')\n",
    "\n",
    "        with open(f'{project_dir}/tableTest.tsv', 'a') as tt2:\n",
    "            for pair in id_sent_pairs:\n",
    "                tt2.write(pair)\n"
   ]
  },
  {
   "cell_type": "code",
   "execution_count": 6,
   "metadata": {},
   "outputs": [
    {
     "data": {
      "text/plain": [
       "['TableTestLarge002/tableTest2.tsv']"
      ]
     },
     "execution_count": 6,
     "metadata": {},
     "output_type": "execute_result"
    }
   ],
   "source": [
    "tsv_files = glob.glob(f'{project_dir}/*.tsv')\n",
    "tsv_files"
   ]
  },
  {
   "cell_type": "code",
   "execution_count": null,
   "metadata": {},
   "outputs": [],
   "source": []
  },
  {
   "cell_type": "code",
   "execution_count": 8,
   "metadata": {},
   "outputs": [
    {
     "name": "stderr",
     "output_type": "stream",
     "text": [
      "WARNING: Logging before flag parsing goes to stderr.\n",
      "W0514 11:35:25.424232 4790859200 __init__.py:56] Some hub symbols are not available because TensorFlow version is less than 1.14\n"
     ]
    }
   ],
   "source": [
    "from SimSent.indexer.index_builder import IndexBuilder\n",
    "from SimSent.vectorizer.sentence_vectorizer import SentenceVectorizer"
   ]
  },
  {
   "cell_type": "code",
   "execution_count": 9,
   "metadata": {},
   "outputs": [
    {
     "name": "stdout",
     "output_type": "stream",
     "text": [
      "Loading model: /Users/lukasferrer/Documents/SimSent/SimSent/vectorizer/model/96e8f1d3d4d90ce86b2db128249eb8143a91db73/\n",
      "Initializing TF Session...\n"
     ]
    }
   ],
   "source": [
    "sv = SentenceVectorizer(large=large_encoder)"
   ]
  },
  {
   "cell_type": "code",
   "execution_count": 10,
   "metadata": {},
   "outputs": [],
   "source": [
    "ibdr = IndexBuilder(project_dir, sentence_vectorizer=sv)"
   ]
  },
  {
   "cell_type": "code",
   "execution_count": 11,
   "metadata": {},
   "outputs": [],
   "source": [
    "for tsv in tsv_files:\n",
    "    ibdr.tsv_to_index(tsv)"
   ]
  },
  {
   "cell_type": "code",
   "execution_count": null,
   "metadata": {},
   "outputs": [],
   "source": []
  },
  {
   "cell_type": "code",
   "execution_count": 12,
   "metadata": {},
   "outputs": [],
   "source": [
    "from SimSent.server.service_handler import QueryHandler\n",
    "\n",
    "from SimSent.vectorizer.sentence_vectorizer import DockerVectorizer\n",
    "from SimSent.indexer.deploy_handler import RangeShards"
   ]
  },
  {
   "cell_type": "code",
   "execution_count": 13,
   "metadata": {},
   "outputs": [],
   "source": [
    "# Ensure correct docker is running the vectorizer container in background \n",
    "dv = DockerVectorizer(large=large_encoder)\n",
    "rs = RangeShards(project_dir, nprobe=8, get_nested=True)"
   ]
  },
  {
   "cell_type": "code",
   "execution_count": 14,
   "metadata": {},
   "outputs": [],
   "source": [
    "qp = QueryHandler(dv, rs, project_dir=project_dir, get_nested=True)"
   ]
  },
  {
   "cell_type": "code",
   "execution_count": 15,
   "metadata": {},
   "outputs": [
    {
     "data": {
      "text/plain": [
       "['tableTest2']"
      ]
     },
     "execution_count": 15,
     "metadata": {},
     "output_type": "execute_result"
    }
   ],
   "source": [
    "# Searches by keys (useful for any type of category/range-search)\n",
    "keys = list(rs.shards.keys())\n",
    "keys"
   ]
  },
  {
   "cell_type": "code",
   "execution_count": 93,
   "metadata": {},
   "outputs": [],
   "source": []
  },
  {
   "cell_type": "code",
   "execution_count": 106,
   "metadata": {},
   "outputs": [
    {
     "name": "stdout",
     "output_type": "stream",
     "text": [
      "  Query vectorized in --- 0.0371s\n",
      "  Index searched in ----- 0.0001s\n",
      "  Payload formatted in -- 0.0055s\n",
      "\n"
     ]
    }
   ],
   "source": [
    "query01 = 'Tesla has revolutionized the automotive industry'\n",
    "qhits01 = qp.query_corpus(query01, keys, k=5, radius=3.0)"
   ]
  },
  {
   "cell_type": "code",
   "execution_count": 107,
   "metadata": {},
   "outputs": [
    {
     "name": "stdout",
     "output_type": "stream",
     "text": [
      "\n",
      "tableTest2:\n",
      "   * ID:    110303\n",
      "   * Score: 0.9472362399101257\n",
      "   * Text:  The Toyota Camry TS-01 is a concept car based on the Toyota MCV30 Camry. It was designed and built mainly using resources of Toyota Australia, and was unveiled at the 2005 Melbourne International Motor Show in Australia.\n",
      "\n",
      "   * ID:    174003\n",
      "   * Score: 0.9918836355209351\n",
      "   * Text:  The Electric Aircraft Corporation ElectraFlyer-C is an American experimental electric aircraft that was designed by Randall Fishman and produced by his company Electric Aircraft Corporation in 2008. The aircraft is a converted Monnett Moni motor glider intended to test electric propulsion technology for the future Electric Aircraft Corporation ElectraFlyer-X.[1][2][3][4][5][6]\n",
      "\n",
      "   * ID:    110300\n",
      "   * Score: 0.9975507259368896\n",
      "   * Text:  Toyota Camry TS-01\n",
      "\n",
      "   * ID:    110301\n",
      "   * Score: 0.9975507259368896\n",
      "   * Text:  Toyota Camry TS-01\n",
      "\n",
      "   * ID:    90800\n",
      "   * Score: 1.0352352857589722\n",
      "   * Text:  Ferrari F2003-GA\n",
      "\n",
      "\n",
      "top_hits:\n",
      "   * ID:    110303\n",
      "   * Score: 0.9472362399101257\n",
      "   * Text:  The Toyota Camry TS-01 is a concept car based on the Toyota MCV30 Camry. It was designed and built mainly using resources of Toyota Australia, and was unveiled at the 2005 Melbourne International Motor Show in Australia.\n",
      "\n",
      "   * ID:    174003\n",
      "   * Score: 0.9918836355209351\n",
      "   * Text:  The Electric Aircraft Corporation ElectraFlyer-C is an American experimental electric aircraft that was designed by Randall Fishman and produced by his company Electric Aircraft Corporation in 2008. The aircraft is a converted Monnett Moni motor glider intended to test electric propulsion technology for the future Electric Aircraft Corporation ElectraFlyer-X.[1][2][3][4][5][6]\n",
      "\n",
      "   * ID:    110300\n",
      "   * Score: 0.9975507259368896\n",
      "   * Text:  Toyota Camry TS-01\n",
      "\n",
      "   * ID:    110301\n",
      "   * Score: 0.9975507259368896\n",
      "   * Text:  Toyota Camry TS-01\n",
      "\n",
      "   * ID:    90800\n",
      "   * Score: 1.0352352857589722\n",
      "   * Text:  Ferrari F2003-GA\n",
      "\n"
     ]
    }
   ],
   "source": [
    "for Key, Vals in qhits01.items():\n",
    "    print(f'\\n{Key}:')\n",
    "    for v in Vals:\n",
    "        print(f'   * ID:    {v[1]}\\n'\n",
    "              f'   * Score: {v[0]}\\n'\n",
    "              f'   * Text:  {v[2]}\\n')"
   ]
  },
  {
   "cell_type": "code",
   "execution_count": null,
   "metadata": {},
   "outputs": [],
   "source": []
  },
  {
   "cell_type": "code",
   "execution_count": 108,
   "metadata": {},
   "outputs": [
    {
     "data": {
      "text/plain": [
       "{'Mill location': 'Rolvenden , Kent',\n",
       " 'Grid reference': 'TQ 838 315',\n",
       " 'Coordinates': '(Show location on an interactive map) 51°3′13″N  0°37′17″E Coordinates : (Show location on an interactive map) 51°3′13″N  0°37′17″E',\n",
       " 'Year built': '1772',\n",
       " 'Purpose': 'Corn milling',\n",
       " 'Type': 'Post mill',\n",
       " 'Roundhouse storeys': 'Single storey',\n",
       " 'No. of sails': 'Four',\n",
       " 'Type of sails': 'Last worked on two Common sails and two Spring sails. Now carries four Common sails',\n",
       " 'Windshaft': 'Wood with cast iron poll end.',\n",
       " 'Winding': 'Tailpole',\n",
       " 'No. of pairs of millstones': 'Two pairs, arranged Head and Tail',\n",
       " 'Other information': 'Mill may be the one that was standing in 1596.'}"
      ]
     },
     "execution_count": 108,
     "metadata": {},
     "output_type": "execute_result"
    }
   ],
   "source": [
    "# Check actual table with Table_ID:\n",
    "# Table_ID = str(divmod(ID, 100)[0])\n",
    "\n",
    "dicto_tables['110']"
   ]
  },
  {
   "cell_type": "code",
   "execution_count": 109,
   "metadata": {},
   "outputs": [
    {
     "data": {
      "text/plain": [
       "{'Role': 'Experimental  electric aircraft',\n",
       " 'National origin': 'United States',\n",
       " 'Manufacturer': 'Electric Aircraft Corporation',\n",
       " 'Designer': 'Randall Fishman',\n",
       " 'First flight': '2008',\n",
       " 'Introduction': '2008',\n",
       " 'Status': 'Developmental prototype only',\n",
       " 'Produced': '2008',\n",
       " 'Number built': 'one',\n",
       " 'Developed from': 'Electric Aircraft Corporation ElectraFlyer Trike and Monnett Moni'}"
      ]
     },
     "execution_count": 109,
     "metadata": {},
     "output_type": "execute_result"
    }
   ],
   "source": [
    "dicto_tables['1740']"
   ]
  },
  {
   "cell_type": "code",
   "execution_count": 110,
   "metadata": {},
   "outputs": [
    {
     "data": {
      "text/plain": [
       "{'Races': '12', 'Wins': '7', 'Podiums': '13', 'Poles': '5', 'F.Laps': '5'}"
      ]
     },
     "execution_count": 110,
     "metadata": {},
     "output_type": "execute_result"
    }
   ],
   "source": [
    "dicto_tables['908']"
   ]
  },
  {
   "cell_type": "code",
   "execution_count": null,
   "metadata": {},
   "outputs": [],
   "source": []
  },
  {
   "cell_type": "code",
   "execution_count": 145,
   "metadata": {},
   "outputs": [
    {
     "data": {
      "text/plain": [
       "{'Born': 'Akbar Hassani Rad April 27, 1945 (age\\xa073) Tehran , Iran',\n",
       " 'Alma\\xa0mater': 'University of Tehran Cardiff University',\n",
       " 'Occupation': 'Actor',\n",
       " 'Years\\xa0active': '1966–present'}"
      ]
     },
     "execution_count": 145,
     "metadata": {},
     "output_type": "execute_result"
    }
   ],
   "source": [
    "# Try finding this table\n",
    "\n",
    "dicto_tables['15']"
   ]
  },
  {
   "cell_type": "code",
   "execution_count": 146,
   "metadata": {},
   "outputs": [
    {
     "name": "stdout",
     "output_type": "stream",
     "text": [
      "  Query vectorized in --- 0.0342s\n",
      "  Index searched in ----- 0.0031s\n",
      "  Payload formatted in -- 0.0053s\n",
      "\n",
      "\n",
      "tableTest2:\n",
      "   * ID:    230701\n",
      "   * Score: 0.5689262747764587\n",
      "   * Text:  24th Prime Minister of Iran\n",
      "\n",
      "   * ID:    118802\n",
      "   * Score: 0.5867224931716919\n",
      "   * Text:  Ali Abbas (footballer)\n",
      "\n",
      "   * ID:    230704\n",
      "   * Score: 0.6341533064842224\n",
      "   * Text:  Member of the Parliament of Iran\n",
      "\n",
      "   * ID:    84501\n",
      "   * Score: 0.6578137278556824\n",
      "   * Text:  8th General Director of the Abkhazian State TV and Radio\n",
      "\n",
      "   * ID:    37502\n",
      "   * Score: 0.6630013585090637\n",
      "   * Text:  British-French actress and singer\n",
      "\n"
     ]
    }
   ],
   "source": [
    "query02 = 'Iranian Actor from Tehran'\n",
    "qhits02 = qp.query_corpus(query02, keys, k=5, radius=3.0)\n",
    "\n",
    "for Key, Vals in qhits02.items():\n",
    "    print(f'\\n{Key}:')\n",
    "    for v in Vals:\n",
    "        print(f'   * ID:    {v[1]}\\n'\n",
    "              f'   * Score: {v[0]}\\n'\n",
    "              f'   * Text:  {v[2]}\\n')\n",
    "    break"
   ]
  },
  {
   "cell_type": "code",
   "execution_count": 148,
   "metadata": {},
   "outputs": [
    {
     "data": {
      "text/plain": [
       "{'Monarch': 'Reza Shah',\n",
       " 'Preceded by': 'Mahmoud Jam',\n",
       " 'Succeeded by': 'Ali Mansur',\n",
       " 'Constituency': 'Meshkin Shahr',\n",
       " 'Born': '23 January 1897 Tehran , Iran',\n",
       " 'Died': '26 June 1971 (aged\\xa074) Tehran, Iran',\n",
       " 'Political party': 'Monarchist Party [ citation needed ]'}"
      ]
     },
     "execution_count": 148,
     "metadata": {},
     "output_type": "execute_result"
    }
   ],
   "source": [
    "dicto_tables['2307']"
   ]
  },
  {
   "cell_type": "code",
   "execution_count": 149,
   "metadata": {},
   "outputs": [
    {
     "data": {
      "text/plain": [
       "{'Full name': 'Ali Abbas Mshehed Al-Hilfi',\n",
       " 'Date of birth': '30 August 1986 (age\\xa032)',\n",
       " 'Place of birth': 'Baghdad, Iraq',\n",
       " 'Height': '1.70\\xa0m (5\\xa0ft 7\\xa0in)',\n",
       " 'Playing position': 'Left Winger , center midfielder , left back',\n",
       " 'Years': 'Team',\n",
       " '2005–2006': 'Al-Talaba',\n",
       " '2007–2008': 'Al-Quwa Al-Jawiya',\n",
       " '2008–2009': 'Marconi Stallions',\n",
       " '2009–2012': 'Newcastle Jets',\n",
       " '2012–2016': 'Sydney FC',\n",
       " '2016–2017': 'Pohang Steelers',\n",
       " '2017–2018': 'Wellington Phoenix',\n",
       " '2018': 'Wellington Phoenix Reserves',\n",
       " '2007': 'Iraq U-23',\n",
       " '2007–': 'Iraq'}"
      ]
     },
     "execution_count": 149,
     "metadata": {},
     "output_type": "execute_result"
    }
   ],
   "source": [
    "dicto_tables['1188']"
   ]
  },
  {
   "cell_type": "code",
   "execution_count": 151,
   "metadata": {},
   "outputs": [
    {
     "data": {
      "text/plain": [
       "{'Preceded by·Emma Khojava': '',\n",
       " 'Succeeded by·Tali Japua': '',\n",
       " 'Prime Minister·Anri Jergenia Gennadi Gagulia Raul Khajimba Nodar Khashba': 'Minister for Culture',\n",
       " 'Preceded by·Vladimir Zantaria': '',\n",
       " 'Succeeded by·Nugzar Logua': '',\n",
       " 'Born·1960 (age\\xa058–59) Mgudzurkhva': 'Personal details',\n",
       " 'Nationality·Abkhaz': ''}"
      ]
     },
     "execution_count": 151,
     "metadata": {},
     "output_type": "execute_result"
    }
   ],
   "source": [
    "dicto_tables['845']"
   ]
  },
  {
   "cell_type": "code",
   "execution_count": 152,
   "metadata": {},
   "outputs": [
    {
     "data": {
      "text/plain": [
       "{'Born': 'Charlotte Lucy Gainsbourg 21 July 1971 (age\\xa047) London , England',\n",
       " 'Nationality': 'British  French',\n",
       " 'Occupation': 'Actress  singer',\n",
       " 'Years\\xa0active': '1984–present',\n",
       " 'Partner(s)': 'Yvan Attal (1991–present; engaged)',\n",
       " 'Children': '3',\n",
       " 'Parent(s)': 'Serge Gainsbourg  Jane Birkin',\n",
       " 'Relatives': 'Kate Barry (half-sister)  Lou Doillon (half-sister)  Judy Campbell (grandmother)  Andrew Birkin (uncle)  David Birkin (cousin)  Anno Birkin (cousin)',\n",
       " 'Genres': 'Alternative rock indie pop dream pop',\n",
       " 'Labels': 'Phonogram  Because  Atlantic  Vice  Elektra',\n",
       " 'Associated acts': 'Beck  Nigel Godrich  Sebastian',\n",
       " 'Website': 'charlottegainsbourg .com'}"
      ]
     },
     "execution_count": 152,
     "metadata": {},
     "output_type": "execute_result"
    }
   ],
   "source": [
    "dicto_tables['375']"
   ]
  },
  {
   "cell_type": "code",
   "execution_count": null,
   "metadata": {},
   "outputs": [],
   "source": []
  }
 ],
 "metadata": {
  "kernelspec": {
   "display_name": "SimSent",
   "language": "python",
   "name": "simsent"
  },
  "language_info": {
   "codemirror_mode": {
    "name": "ipython",
    "version": 3
   },
   "file_extension": ".py",
   "mimetype": "text/x-python",
   "name": "python",
   "nbconvert_exporter": "python",
   "pygments_lexer": "ipython3",
   "version": "3.6.8"
  }
 },
 "nbformat": 4,
 "nbformat_minor": 2
}
